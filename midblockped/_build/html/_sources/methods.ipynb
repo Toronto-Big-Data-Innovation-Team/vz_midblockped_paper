{
 "cells": [
  {
   "cell_type": "markdown",
   "id": "e98e9266",
   "metadata": {},
   "source": [
    "(section:methods)=\n",
    "# Methods"
   ]
  },
  {
   "cell_type": "markdown",
   "id": "2b200757",
   "metadata": {},
   "source": [
    "## Modelling Procedure\n",
    "\n",
    "Our model and operationalization recommendations are based on a network screening and infrastructure prioritization framework developed at the Highway Safety Research Center at the University of North Carolina - Chapel Hill, which is described in Kumfer et al. 2019 {cite}`kumf+2019` and a corresponding National Cooperative Highway Research Program (NCHRP) contractor's report {cite}`thom+2018contract`. Their framework adapts modelling and prioritization techniques typically used for vehicle-vehicle collisions on highways to vehicle-pedestrian ones, and it forms the technical underpinnings of the NCHRP guide on pedestrian network screening best practices {cite}`thom+2018guide`. While this guide covers a number possible approaches to pedestrian collision network screening, Kumfer et al. is particularly interesting to us because they specifically tackle the difficult task of modeling midblock pedestrian crossing collisions, which tend to be rarer.\n",
    "\n",
    "Their procedure is:\n",
    "\n",
    "1. Obtain a midblock network - a geospatial table of where each row represents the roadway of a midblock.\n",
    "2. Associate collision location data to the midblocks, as well as a wide range of physical, demographic, traffic volume, and other types of data. The result is that each midblock has an associated population density, traffic volume, etc., that serve as independent variables to the regression, and an associated number of collisions, serving as the dependent variable.\n",
    "3. Perform dimensionality reduction, to reduce the number of independent variables used in the regression to those that are most significantly predictive.\n",
    "4. Perform a negative binomial regression to obtain the final model.\n",
    "\n",
    "For more detail, please see [cite}`thom+2018guide` Data and Methodology, and {cite}`thom+2018guide` Section 4.2.\n",
    "\n",
    "Our procedure broadly follows these steps. In step 3, Kumfer et al. used a conditional random forest (CRF) to select only variables that have a statistically significant predictive effect for collision frequency, and reduced the number of independent variables from 51 to 35-36 {cite}`thom+2018contract`. We instead perform a simpler dimensionality reduction that focuses on reducing multicollinearity.\n",
    "\n",
    "Negative binomial regression is one of the modelling methods in general use for collision frequency modelling. For an overview of alternatives, and our rational for adopting this method, see [](section:appendix:alternate)."
   ]
  },
  {
   "cell_type": "code",
   "execution_count": null,
   "id": "dd1b5b8f",
   "metadata": {},
   "outputs": [],
   "source": []
  }
 ],
 "metadata": {
  "kernelspec": {
   "display_name": "Python 3.6.9 64-bit ('bditto': venv)",
   "language": "python",
   "name": "python36964bitbdittovenvd56842b7ca0c4929925d70f8c4c7f13a"
  },
  "language_info": {
   "codemirror_mode": {
    "name": "ipython",
    "version": 3
   },
   "file_extension": ".py",
   "mimetype": "text/x-python",
   "name": "python",
   "nbconvert_exporter": "python",
   "pygments_lexer": "ipython3",
   "version": "3.6.9"
  }
 },
 "nbformat": 4,
 "nbformat_minor": 5
}
